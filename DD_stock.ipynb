{
 "cells": [
  {
   "cell_type": "code",
   "execution_count": 7,
   "id": "a724fe9a-d18a-45c3-9dce-3a222107fec2",
   "metadata": {},
   "outputs": [
    {
     "name": "stdout",
     "output_type": "stream",
     "text": [
      "Requirement already satisfied: pandas in d:\\anaconda\\lib\\site-packages (2.2.2)\n",
      "Requirement already satisfied: patool in d:\\anaconda\\lib\\site-packages (3.1.0)\n",
      "Requirement already satisfied: numpy>=1.26.0 in d:\\anaconda\\lib\\site-packages (from pandas) (1.26.4)\n",
      "Requirement already satisfied: python-dateutil>=2.8.2 in d:\\anaconda\\lib\\site-packages (from pandas) (2.9.0.post0)\n",
      "Requirement already satisfied: pytz>=2020.1 in d:\\anaconda\\lib\\site-packages (from pandas) (2024.1)\n",
      "Requirement already satisfied: tzdata>=2022.7 in d:\\anaconda\\lib\\site-packages (from pandas) (2023.3)\n",
      "Requirement already satisfied: six>=1.5 in d:\\anaconda\\lib\\site-packages (from python-dateutil>=2.8.2->pandas) (1.16.0)\n",
      "Note: you may need to restart the kernel to use updated packages.\n"
     ]
    }
   ],
   "source": [
    "pip install pandas patool"
   ]
  },
  {
   "cell_type": "code",
   "execution_count": 43,
   "id": "c9afb542-e7eb-4f85-be19-d1bd2b1eacfa",
   "metadata": {},
   "outputs": [
    {
     "name": "stderr",
     "output_type": "stream",
     "text": [
      "INFO patool: Extracting D:\\Guvi_Project\\DD_Stock_Analysis\\Data_Folder\\data.rar ...\n",
      "INFO patool: running \"C:\\Program Files\\WinRAR\\rar.EXE\" x -kb -or -- D:\\Guvi_Project\\DD_Stock_Analysis\\Data_Folder\\data.rar\n",
      "INFO patool: ... D:\\Guvi_Project\\DD_Stock_Analysis\\Data_Folder\\data.rar extracted to `D:\\Guvi_Project\\DD_Stock_Analysis\\Data_Folder\\Extracted_data'.\n"
     ]
    },
    {
     "name": "stdout",
     "output_type": "stream",
     "text": [
      "Extraction completed successfully.\n"
     ]
    }
   ],
   "source": [
    "#Extraction \n",
    "\n",
    "import os\n",
    "import patoolib\n",
    "\n",
    "# File paths\n",
    "file_path = r\"D:\\Guvi_Project\\DD_Stock_Analysis\\Data_Folder\\data.rar\"\n",
    "extract_path = r\"D:\\Guvi_Project\\DD_Stock_Analysis\\Data_Folder\\Extracted_data\"\n",
    "\n",
    "# Ensure the extraction folder exists\n",
    "os.makedirs(extract_path, exist_ok=True)\n",
    "\n",
    "# Check if RAR file exists\n",
    "if os.path.exists(file_path):\n",
    "    try:\n",
    "        # Extract the RAR file\n",
    "        patoolib.extract_archive(file_path, outdir=extract_path)\n",
    "        print(\"Extraction completed successfully.\")\n",
    "    \n",
    "    except Exception as e:\n",
    "        print(f\"An error occurred: {e}\")\n",
    "else:\n",
    "    print(f\"Error: RAR file not found at {file_path}\")"
   ]
  },
  {
   "cell_type": "code",
   "execution_count": 73,
   "id": "c2062bd8-8776-414c-b912-95a8d9c7ef96",
   "metadata": {
    "scrolled": true
   },
   "outputs": [
    {
     "name": "stdout",
     "output_type": "stream",
     "text": [
      "Successfully appended\n",
      "Successfully Saved: D:\\Guvi_Project\\DD_Stock_Analysis\\Data_Folder\\Processed_CSV\\ADANIENT.csv\n",
      "Successfully Saved: D:\\Guvi_Project\\DD_Stock_Analysis\\Data_Folder\\Processed_CSV\\ADANIPORTS.csv\n",
      "Successfully Saved: D:\\Guvi_Project\\DD_Stock_Analysis\\Data_Folder\\Processed_CSV\\APOLLOHOSP.csv\n",
      "Successfully Saved: D:\\Guvi_Project\\DD_Stock_Analysis\\Data_Folder\\Processed_CSV\\ASIANPAINT.csv\n",
      "Successfully Saved: D:\\Guvi_Project\\DD_Stock_Analysis\\Data_Folder\\Processed_CSV\\AXISBANK.csv\n",
      "Successfully Saved: D:\\Guvi_Project\\DD_Stock_Analysis\\Data_Folder\\Processed_CSV\\BAJAJ-AUTO.csv\n",
      "Successfully Saved: D:\\Guvi_Project\\DD_Stock_Analysis\\Data_Folder\\Processed_CSV\\BAJAJFINSV.csv\n",
      "Successfully Saved: D:\\Guvi_Project\\DD_Stock_Analysis\\Data_Folder\\Processed_CSV\\BAJFINANCE.csv\n",
      "Successfully Saved: D:\\Guvi_Project\\DD_Stock_Analysis\\Data_Folder\\Processed_CSV\\BEL.csv\n",
      "Successfully Saved: D:\\Guvi_Project\\DD_Stock_Analysis\\Data_Folder\\Processed_CSV\\BHARTIARTL.csv\n",
      "Successfully Saved: D:\\Guvi_Project\\DD_Stock_Analysis\\Data_Folder\\Processed_CSV\\BPCL.csv\n",
      "Successfully Saved: D:\\Guvi_Project\\DD_Stock_Analysis\\Data_Folder\\Processed_CSV\\BRITANNIA.csv\n",
      "Successfully Saved: D:\\Guvi_Project\\DD_Stock_Analysis\\Data_Folder\\Processed_CSV\\CIPLA.csv\n",
      "Successfully Saved: D:\\Guvi_Project\\DD_Stock_Analysis\\Data_Folder\\Processed_CSV\\COALINDIA.csv\n",
      "Successfully Saved: D:\\Guvi_Project\\DD_Stock_Analysis\\Data_Folder\\Processed_CSV\\DRREDDY.csv\n",
      "Successfully Saved: D:\\Guvi_Project\\DD_Stock_Analysis\\Data_Folder\\Processed_CSV\\EICHERMOT.csv\n",
      "Successfully Saved: D:\\Guvi_Project\\DD_Stock_Analysis\\Data_Folder\\Processed_CSV\\GRASIM.csv\n",
      "Successfully Saved: D:\\Guvi_Project\\DD_Stock_Analysis\\Data_Folder\\Processed_CSV\\HCLTECH.csv\n",
      "Successfully Saved: D:\\Guvi_Project\\DD_Stock_Analysis\\Data_Folder\\Processed_CSV\\HDFCBANK.csv\n",
      "Successfully Saved: D:\\Guvi_Project\\DD_Stock_Analysis\\Data_Folder\\Processed_CSV\\HDFCLIFE.csv\n",
      "Successfully Saved: D:\\Guvi_Project\\DD_Stock_Analysis\\Data_Folder\\Processed_CSV\\HEROMOTOCO.csv\n",
      "Successfully Saved: D:\\Guvi_Project\\DD_Stock_Analysis\\Data_Folder\\Processed_CSV\\HINDALCO.csv\n",
      "Successfully Saved: D:\\Guvi_Project\\DD_Stock_Analysis\\Data_Folder\\Processed_CSV\\HINDUNILVR.csv\n",
      "Successfully Saved: D:\\Guvi_Project\\DD_Stock_Analysis\\Data_Folder\\Processed_CSV\\ICICIBANK.csv\n",
      "Successfully Saved: D:\\Guvi_Project\\DD_Stock_Analysis\\Data_Folder\\Processed_CSV\\INDUSINDBK.csv\n",
      "Successfully Saved: D:\\Guvi_Project\\DD_Stock_Analysis\\Data_Folder\\Processed_CSV\\INFY.csv\n",
      "Successfully Saved: D:\\Guvi_Project\\DD_Stock_Analysis\\Data_Folder\\Processed_CSV\\ITC.csv\n",
      "Successfully Saved: D:\\Guvi_Project\\DD_Stock_Analysis\\Data_Folder\\Processed_CSV\\JSWSTEEL.csv\n",
      "Successfully Saved: D:\\Guvi_Project\\DD_Stock_Analysis\\Data_Folder\\Processed_CSV\\KOTAKBANK.csv\n",
      "Successfully Saved: D:\\Guvi_Project\\DD_Stock_Analysis\\Data_Folder\\Processed_CSV\\LT.csv\n",
      "Successfully Saved: D:\\Guvi_Project\\DD_Stock_Analysis\\Data_Folder\\Processed_CSV\\M&M.csv\n",
      "Successfully Saved: D:\\Guvi_Project\\DD_Stock_Analysis\\Data_Folder\\Processed_CSV\\MARUTI.csv\n",
      "Successfully Saved: D:\\Guvi_Project\\DD_Stock_Analysis\\Data_Folder\\Processed_CSV\\NESTLEIND.csv\n",
      "Successfully Saved: D:\\Guvi_Project\\DD_Stock_Analysis\\Data_Folder\\Processed_CSV\\NTPC.csv\n",
      "Successfully Saved: D:\\Guvi_Project\\DD_Stock_Analysis\\Data_Folder\\Processed_CSV\\ONGC.csv\n",
      "Successfully Saved: D:\\Guvi_Project\\DD_Stock_Analysis\\Data_Folder\\Processed_CSV\\POWERGRID.csv\n",
      "Successfully Saved: D:\\Guvi_Project\\DD_Stock_Analysis\\Data_Folder\\Processed_CSV\\RELIANCE.csv\n",
      "Successfully Saved: D:\\Guvi_Project\\DD_Stock_Analysis\\Data_Folder\\Processed_CSV\\SBILIFE.csv\n",
      "Successfully Saved: D:\\Guvi_Project\\DD_Stock_Analysis\\Data_Folder\\Processed_CSV\\SBIN.csv\n",
      "Successfully Saved: D:\\Guvi_Project\\DD_Stock_Analysis\\Data_Folder\\Processed_CSV\\SHRIRAMFIN.csv\n",
      "Successfully Saved: D:\\Guvi_Project\\DD_Stock_Analysis\\Data_Folder\\Processed_CSV\\SUNPHARMA.csv\n",
      "Successfully Saved: D:\\Guvi_Project\\DD_Stock_Analysis\\Data_Folder\\Processed_CSV\\TATACONSUM.csv\n",
      "Successfully Saved: D:\\Guvi_Project\\DD_Stock_Analysis\\Data_Folder\\Processed_CSV\\TATAMOTORS.csv\n",
      "Successfully Saved: D:\\Guvi_Project\\DD_Stock_Analysis\\Data_Folder\\Processed_CSV\\TATASTEEL.csv\n",
      "Successfully Saved: D:\\Guvi_Project\\DD_Stock_Analysis\\Data_Folder\\Processed_CSV\\TCS.csv\n",
      "Successfully Saved: D:\\Guvi_Project\\DD_Stock_Analysis\\Data_Folder\\Processed_CSV\\TECHM.csv\n",
      "Successfully Saved: D:\\Guvi_Project\\DD_Stock_Analysis\\Data_Folder\\Processed_CSV\\TITAN.csv\n",
      "Successfully Saved: D:\\Guvi_Project\\DD_Stock_Analysis\\Data_Folder\\Processed_CSV\\TRENT.csv\n",
      "Successfully Saved: D:\\Guvi_Project\\DD_Stock_Analysis\\Data_Folder\\Processed_CSV\\ULTRACEMCO.csv\n",
      "Successfully Saved: D:\\Guvi_Project\\DD_Stock_Analysis\\Data_Folder\\Processed_CSV\\WIPRO.csv\n",
      "All ticker CSV files saved successfully.\n"
     ]
    }
   ],
   "source": [
    "import glob\n",
    "import pandas as pd\n",
    "import yaml\n",
    "import os\n",
    "\n",
    "output_dir = r\"D:\\Guvi_Project\\DD_Stock_Analysis\\Data_Folder\\Processed_CSV\"\n",
    "\n",
    "os.makedirs(output_dir, exist_ok=True)  # Ensure output directory exists\n",
    "\n",
    "yaml_data = []  # List to store DataFrames\n",
    "\n",
    "# Loop through each YAML file in extracted folders\n",
    "for folder in glob.glob(os.path.join(extract_path, \"20*\")):\n",
    "    for yaml_file in glob.glob(os.path.join(folder, \"*.yaml\")):\n",
    "        try:\n",
    "            with open(yaml_file, \"r\") as f:\n",
    "                data = yaml.safe_load(f)  # Load YAML safely\n",
    "\n",
    "            if data:  # Ensure the file contains valid data\n",
    "                df = pd.DataFrame(data)  \n",
    "                yaml_data.append(df)\n",
    "            else:\n",
    "                print(f\"Warning: {yaml_file} is empty or invalid.\")\n",
    "        \n",
    "        except Exception as e:\n",
    "            print(f\"Unexpected error processing {yaml_file}: {e}\")\n",
    "print(f\"Successfully stored the yaml_data in list\")\n",
    "# Combine all extracted data\n",
    "try:\n",
    "    if yaml_data:\n",
    "        df_final = pd.concat(yaml_data, ignore_index=True)\n",
    "\n",
    "        # Ensure \"Ticker\" column exists before grouping\n",
    "        if \"Ticker\" in df_final.columns:\n",
    "            for ticker, df_group in df_final.groupby(\"Ticker\"):\n",
    "                try:\n",
    "                    csv_file_path = os.path.join(output_dir, f\"{ticker}.csv\")\n",
    "                    df_group.to_csv(csv_file_path, index=False)\n",
    "                    print(f\"Successfully Saved: {csv_file_path}\")\n",
    "                except Exception as e:\n",
    "                    print(f\"Error saving {ticker}.csv: {e}\")\n",
    "\n",
    "            print(\"All ticker CSV files saved successfully.\")\n",
    "        else:\n",
    "            print(\"Error: 'Ticker' column missing in extracted data.\")\n",
    "    else:\n",
    "        print(\"YAML data not found.\")\n",
    "\n",
    "except Exception as e:\n",
    "    print(f\"Unexpected error during data processing: {e}\")"
   ]
  },
  {
   "cell_type": "code",
   "execution_count": null,
   "id": "88113fe2-3e4b-4ecd-865c-df35ea54a4a5",
   "metadata": {},
   "outputs": [],
   "source": []
  }
 ],
 "metadata": {
  "kernelspec": {
   "display_name": "Python 3 (ipykernel)",
   "language": "python",
   "name": "python3"
  },
  "language_info": {
   "codemirror_mode": {
    "name": "ipython",
    "version": 3
   },
   "file_extension": ".py",
   "mimetype": "text/x-python",
   "name": "python",
   "nbconvert_exporter": "python",
   "pygments_lexer": "ipython3",
   "version": "3.12.7"
  }
 },
 "nbformat": 4,
 "nbformat_minor": 5
}
